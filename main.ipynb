{
 "cells": [
  {
   "cell_type": "markdown",
   "metadata": {},
   "source": [
    "## Abdollah Ebadi 202380535\n",
    "## Keyvan Booshehri 202380539"
   ]
  },
  {
   "cell_type": "code",
   "execution_count": 18,
   "metadata": {},
   "outputs": [],
   "source": [
    "import pandas as pd\n",
    "import matplotlib.pyplot as plt\n",
    "import numpy as np\n",
    "import ipywidgets as widgets\n",
    "from ipywidgets import interact, SelectMultiple\n",
    "import seaborn as sns"
   ]
  },
  {
   "cell_type": "code",
   "execution_count": 19,
   "metadata": {},
   "outputs": [],
   "source": [
    "main_df = pd.read_csv(\"stroke.csv\")"
   ]
  },
  {
   "cell_type": "code",
   "execution_count": 20,
   "metadata": {},
   "outputs": [
    {
     "data": {
      "application/vnd.jupyter.widget-view+json": {
       "model_id": "e44bd53f1fee485aacaa210263306797",
       "version_major": 2,
       "version_minor": 0
      },
      "text/plain": [
       "interactive(children=(Dropdown(description='Gender', options=('All', 'Men', 'Women'), value='All'), Output()),…"
      ]
     },
     "metadata": {},
     "output_type": "display_data"
    }
   ],
   "source": [
    "#plot 1\n",
    "@interact(Gender=(['All', 'Men', 'Women']))\n",
    "def f1(Gender): \n",
    "    df1 = main_df.copy()\n",
    "    fig, ax = plt.subplots()\n",
    "    if (Gender == 'All'):\n",
    "        df1['ICU Arrival Time'] = pd.to_datetime(df1['ICU Arrival Time'])\n",
    "        df1['ICU Checkout Time'] = pd.to_datetime(df1['ICU Checkout Time'])\n",
    "        df1['age_category'] = pd.cut(df1['Age'], bins=range(0, 101, 10), right=False)\n",
    "        # Calculate ICU time in hours\n",
    "        df1['Avg_ICU_Time'] = (df1['ICU Checkout Time'] - df1['ICU Arrival Time']).dt.total_seconds() / 3600\n",
    "        # Fill NaN values with 0\n",
    "        df1['Avg_ICU_Time'] = df1['Avg_ICU_Time'].fillna(0)\n",
    "        # Calculate average ICU time for each age decade category\n",
    "        average_icu_time = df1.groupby('age_category', observed=False)['Avg_ICU_Time'].mean()\n",
    "        age_categories = [f\"{int(cat.left)} - {int(cat.right) - 1}\" for cat in average_icu_time.index]\n",
    "        ax.bar(x=age_categories, height=average_icu_time.values, color=\"#15803d\")\n",
    "        plt.xlabel('Age')\n",
    "        plt.ylabel('Average ICU Time (hours)')\n",
    "        plt.title('Average ICU Time by Age Decade')\n",
    "        plt.xticks(rotation=45)\n",
    "        plt.grid(False)\n",
    "        plt.show()\n",
    "    elif (Gender == 'Men'):\n",
    "        df2 = main_df.copy()\n",
    "        df2['ICU Arrival Time'] = pd.to_datetime(df2['ICU Arrival Time'])\n",
    "        df2['ICU Checkout Time'] = pd.to_datetime(df2['ICU Checkout Time'])\n",
    "        df2['age_category'] = pd.cut(df2['Age'], bins=range(0, 101, 10), right=False)\n",
    "        # Calculate ICU time in hours\n",
    "        df2['Avg_ICU_Time'] = (df2['ICU Checkout Time'] - df2['ICU Arrival Time']).dt.total_seconds() / 3600\n",
    "        # Fill NaN values with 0\n",
    "        df2['Avg_ICU_Time'] = df2['Avg_ICU_Time'].fillna(0)\n",
    "        # Filter data for male patients\n",
    "        male_data = df2[df2['Gender'] == 'M']\n",
    "\n",
    "        # Group by age category and calculate mean ICU time\n",
    "        male_grouped_data = male_data.groupby('age_category', observed=False)['Avg_ICU_Time'].mean()\n",
    "        # Define custom tick labels\n",
    "        age_categories2 = [f\"{int(cat.left)} - {int(cat.right) - 1}\" for cat in male_grouped_data.index]\n",
    "        ax.bar(x=age_categories2, height=male_grouped_data.values, color=\"#c2410c\")\n",
    "        plt.xlabel('Age')\n",
    "        plt.ylabel('Average ICU Time (hours)')\n",
    "        plt.title('Average ICU Time by Age Decade')\n",
    "        plt.xticks(rotation=45)\n",
    "        plt.grid(False)\n",
    "        plt.show()\n",
    "    elif (Gender == 'Women'):\n",
    "        df3 = main_df.copy()\n",
    "        df3['ICU Arrival Time'] = pd.to_datetime(df3['ICU Arrival Time'])\n",
    "        df3['ICU Checkout Time'] = pd.to_datetime(df3['ICU Checkout Time'])\n",
    "        df3['age_category'] = pd.cut(df3['Age'], bins=range(0, 101, 10), right=False)\n",
    "        # Calculate ICU time in hours\n",
    "        df3['Avg_ICU_Time'] = (df3['ICU Checkout Time'] - df3['ICU Arrival Time']).dt.total_seconds() / 3600\n",
    "        # Fill NaN values with 0\n",
    "        df3['Avg_ICU_Time'] = df3['Avg_ICU_Time'].fillna(0)\n",
    "        # Filter data for male patients\n",
    "        female_data = df3[df3['Gender'] == 'F']\n",
    "        # Group by age category and calculate mean ICU time\n",
    "        female_grouped_data = female_data.groupby('age_category', observed=False)['Avg_ICU_Time'].mean()\n",
    "        # Define custom tick labels\n",
    "        age_categories3 = [f\"{int(cat.left)} - {int(cat.right) - 1}\" for cat in female_grouped_data.index]\n",
    "        ax.bar(x=age_categories3, height=female_grouped_data.values, color=\"#0369a1\")\n",
    "        plt.xlabel('Age')\n",
    "        plt.ylabel('Average ICU Time (hours)')\n",
    "        plt.title('Average ICU Time by Age Decade')\n",
    "        plt.xticks(rotation=45)\n",
    "        plt.grid(False)\n",
    "        plt.show()\n",
    "        print(\"Women\")\n",
    "\n"
   ]
  },
  {
   "cell_type": "code",
   "execution_count": 21,
   "metadata": {},
   "outputs": [
    {
     "data": {
      "application/vnd.jupyter.widget-view+json": {
       "model_id": "9b15ffc71bc74175bd5c16b8180fe6a4",
       "version_major": 2,
       "version_minor": 0
      },
      "text/plain": [
       "interactive(children=(Dropdown(description='VisitType', options=('Occupational Therapist Visit', 'Speech Patho…"
      ]
     },
     "metadata": {},
     "output_type": "display_data"
    }
   ],
   "source": [
    "#plot 2\n",
    "@interact(VisitType=(['Occupational Therapist Visit', 'Speech Pathologist Visit', 'Physiotherapist Visit','Dietitian Visit','Social Worker Visit','Cardiologist Visit','Neurologist Visit']),comorbidities=True,)\n",
    "def f1(VisitType,comorbidities): \n",
    "    fig, ax = plt.subplots()\n",
    "    main_df2 = pd.read_csv(\"stroke.csv\")\n",
    "    main_df2=main_df2[main_df2['Comorbidities']==comorbidities]\n",
    "    main_df2=main_df2.groupby(\"Gender\").size().reset_index()\n",
    "    total_f=main_df2[0][0]\n",
    "    total_m=main_df2[0][1]\n",
    "    total=total_m+total_f\n",
    "    main_df3 = pd.read_csv(\"stroke.csv\")\n",
    "    main_df3=main_df3[main_df3['Comorbidities']==comorbidities]\n",
    "    main_df3 = main_df3.dropna(subset=[VisitType])\n",
    "    main_df3=main_df3.groupby(\"Gender\").size().reset_index()\n",
    "    ax.pie([main_df3[0][0]/total,main_df3[0][1]/total,(total-main_df3[0][0]-main_df3[0][1])/total],labels=['female','male','no visit'],autopct='%1.1f%%')\n",
    "    plt.title('Distribution of visitis based on specialization and comorbidities')"
   ]
  },
  {
   "cell_type": "code",
   "execution_count": 22,
   "metadata": {},
   "outputs": [
    {
     "data": {
      "application/vnd.jupyter.widget-view+json": {
       "model_id": "3a53b8ff9ea94e8086fdc7d1405e1d99",
       "version_major": 2,
       "version_minor": 0
      },
      "text/plain": [
       "interactive(children=(Text(value='30', description='AgeStart'), Text(value='50', description='AgeEnd'), Dropdo…"
      ]
     },
     "metadata": {},
     "output_type": "display_data"
    }
   ],
   "source": [
    "\n",
    "@interact(AgeStart=\"30\",AgeEnd=\"50\",Gender=[\"All\",\"Male\",\"Female\"])\n",
    "def f1(AgeStart,AgeEnd,Gender):\n",
    "    main_df4 = pd.read_csv(\"stroke.csv\")\n",
    "    main_df4\n",
    "    main_df5 = pd.read_csv(\"stroke.csv\")\n",
    "    main_df5\n",
    "    if AgeStart != \"\":\n",
    "        AgeStart=int(AgeStart)\n",
    "        main_df5=main_df5[main_df5['Age']>=AgeStart]\n",
    "        main_df4=main_df4[main_df4['Age']>=AgeStart]\n",
    "    if AgeEnd != \"\":\n",
    "        AgeEnd=int(AgeEnd)\n",
    "        main_df5=main_df5[main_df5['Age']<=AgeEnd]\n",
    "        main_df4=main_df4[main_df4['Age']<=AgeEnd]\n",
    "\n",
    "    if Gender==\"Male\":\n",
    "        main_df5=main_df5[main_df5['Gender']=='M']\n",
    "        main_df4=main_df4[main_df4['Gender']=='M']\n",
    "    if Gender==\"Female\":\n",
    "        main_df5=main_df5[main_df5['Gender']=='F']\n",
    "        main_df4=main_df4[main_df4['Gender']=='F'] \n",
    "    main_df5=main_df5[main_df5['Comorbidities']==True]\n",
    "    main_df4=main_df4[main_df4['Comorbidities']==False] \n",
    "    fig, ax = plt.subplots()\n",
    "    main_df4=main_df4.groupby([\"Age\"],observed=False).size().to_frame('freq',).reset_index()\n",
    "    main_df5=main_df5.groupby([\"Age\"],observed=False).size().to_frame('freq',).reset_index()\n",
    "    ax.plot(main_df4['Age'],main_df4['freq'],label=\"Without Comorbidities\", color=\"#0369a1\")\n",
    "    ax.plot(main_df5['Age'],main_df5['freq'],label=\"With Comorbidities\", color=\"#c2410c\")\n",
    "    plt.xlabel('Age')\n",
    "    plt.ylabel('Visits')\n",
    "    plt.title('Visits Based on Age')\n",
    "    ax.legend(title='Comorbidities')"
   ]
  },
  {
   "cell_type": "code",
   "execution_count": 23,
   "metadata": {},
   "outputs": [
    {
     "data": {
      "application/vnd.jupyter.widget-view+json": {
       "model_id": "128427a2a7db4c5093f8f670cc9f81ae",
       "version_major": 2,
       "version_minor": 0
      },
      "text/plain": [
       "interactive(children=(Dropdown(description='Gender', options=('All', 'Men', 'Women'), value='All'), Checkbox(v…"
      ]
     },
     "metadata": {},
     "output_type": "display_data"
    }
   ],
   "source": [
    "#plot 4\n",
    "@interact(Gender=(['All', 'Men', 'Women']),ICU=False,TPA=False)\n",
    "def f1(Gender,ICU,TPA): \n",
    "\tmain_df5 = pd.read_csv(\"stroke.csv\")\n",
    "\tfig, ax = plt.subplots()\n",
    "\tif Gender==\"Men\":\n",
    "\t\tmain_df5=main_df5[main_df5['Gender']=='M']\n",
    "\tif Gender==\"Women\":\n",
    "\t\tmain_df5=main_df5[main_df5['Gender']=='F']\n",
    "\n",
    "\tif TPA is True:\n",
    "\t\tmain_df5 = main_df5.dropna(subset=['TPA Time'])\n",
    "\tif ICU is True:\n",
    "\t\tmain_df5 = main_df5.dropna(subset=['ICU Arrival Time','ICU Checkout Time'])\n",
    "\n",
    "\n",
    "\tmain_df5['Admission Time'] = pd.to_datetime(main_df5['Admission Time'])\n",
    "\tmain_df5['Discharge Time'] = pd.to_datetime(main_df5['Discharge Time'])\n",
    "\tmain_df5['Emergency Dept Time'] = pd.to_datetime(main_df5['Emergency Dept Time'])\n",
    "\n",
    "\tmain_df5['Hosp_Time'] = -(main_df5['Admission Time'] - main_df5['Discharge Time']).dt.total_seconds() / 3600\n",
    "\tmain_df5['Wait_Time'] = -(main_df5['Emergency Dept Time'] - main_df5['Admission Time']).dt.total_seconds() / 3600\n",
    "\n",
    "\t# Fill NaN values with 0\n",
    "\tmain_df5['Hosp_Time'] = main_df5['Hosp_Time'].fillna(0)\n",
    "\tmain_df5['Wait_Time'] = main_df5['Wait_Time'].fillna(0)\n",
    "\n",
    "\tax.scatter(main_df5['Hosp_Time'],main_df5['Wait_Time'],s=1, color=\"#c2410c\")\n",
    "\tplt.xlabel('Length of stay (hours)')\n",
    "\tplt.ylabel('Waiting time (hours)')\n",
    "\tplt.title('Distribution of waiting time and stay time')\n",
    "\tplt.show()"
   ]
  }
 ],
 "metadata": {
  "kernelspec": {
   "display_name": "Python 3",
   "language": "python",
   "name": "python3"
  },
  "language_info": {
   "codemirror_mode": {
    "name": "ipython",
    "version": 3
   },
   "file_extension": ".py",
   "mimetype": "text/x-python",
   "name": "python",
   "nbconvert_exporter": "python",
   "pygments_lexer": "ipython3",
   "version": "3.12.2"
  }
 },
 "nbformat": 4,
 "nbformat_minor": 2
}
